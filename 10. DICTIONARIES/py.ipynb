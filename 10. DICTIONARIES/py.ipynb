{
 "cells": [
  {
   "attachments": {},
   "cell_type": "markdown",
   "metadata": {},
   "source": [
    "Write a python program to generate the following dictionary \n",
    "\n",
    "Num = { 1 : 1, 2 : 8, 3 : 27, 4 : 64, 5 : 125 ….. , 20 : 8000}\n"
   ]
  },
  {
   "cell_type": "code",
   "execution_count": 1,
   "metadata": {},
   "outputs": [
    {
     "name": "stdout",
     "output_type": "stream",
     "text": [
      "Num = {1: 1, 2: 8, 3: 27, 4: 64, 5: 125, 6: 216, 7: 343, 8: 512, 9: 729, 10: 1000, 11: 1331, 12: 1728, 13: 2197, 14: 2744, 15: 3375, 16: 4096, 17: 4913, 18: 5832, 19: 6859, 20: 8000}\n"
     ]
    }
   ],
   "source": [
    "num = {i: i**3 for i in range(1, 21)}\n",
    "\n",
    "print(\"Num =\", num)\n"
   ]
  },
  {
   "attachments": {},
   "cell_type": "markdown",
   "metadata": {},
   "source": [
    "Write a program that inverts a dictionary. I.e., it makes key of one dictionary value of another and vice versa\n",
    "\n",
    "Sample Input:\n",
    "\n",
    "Dict={‘Reg.No”:123, ‘Name’:’abc’,Course’:’CSE’}\n",
    "\n",
    "Sample Output:\n",
    "\n",
    "Inv Dict={123:’Reg.No’, ‘abc’ : ‘Name’, ‘CSE’: ‘Course’}\n"
   ]
  },
  {
   "cell_type": "code",
   "execution_count": 2,
   "metadata": {},
   "outputs": [
    {
     "name": "stdout",
     "output_type": "stream",
     "text": [
      "Inverted Dict: {123: 'Reg.No', 'abc': 'Name', 'CSE': 'Course'}\n"
     ]
    }
   ],
   "source": [
    "def invert_dictionary(dictionary):\n",
    "    inverted_dict = {value: key for key, value in dictionary.items()}\n",
    "    return inverted_dict\n",
    "\n",
    "\n",
    "input_dict = {'Reg.No': 123, 'Name': 'abc', 'Course': 'CSE'}\n",
    "\n",
    "inverted_dict = invert_dictionary(input_dict)\n",
    "\n",
    "print(\"Inverted Dict:\", inverted_dict)\n"
   ]
  },
  {
   "attachments": {},
   "cell_type": "markdown",
   "metadata": {
    "notebookRunGroups": {
     "groupValue": "1"
    }
   },
   "source": [
    " Generate a dictionary where keys are numbers and values consist of a set of its factors in a specified range. \n",
    " \n",
    "Factors = {1:{1} , 2:{1,2}, 3: {1,3}, 4:{1,2,4} , 5:{1,5}, 6:{1,2,3,6}, 7:{1,7}, 8:{1,2,4,8}, 9:{1,3,9,}}\n"
   ]
  },
  {
   "cell_type": "code",
   "execution_count": 3,
   "metadata": {},
   "outputs": [
    {
     "name": "stdout",
     "output_type": "stream",
     "text": [
      "Factors: {1: {1}, 2: {1, 2}, 3: {1, 3}, 4: {1, 2, 4}, 5: {1, 5}, 6: {1, 2, 3, 6}, 7: {1, 7}, 8: {8, 1, 2, 4}, 9: {1, 3, 9}}\n"
     ]
    }
   ],
   "source": [
    "def generate_factors_dictionary(start, end):\n",
    "    factors = {}\n",
    "    for num in range(start, end + 1):\n",
    "        factors[num] = {i for i in range(1, num + 1) if num % i == 0}\n",
    "    return factors\n",
    "\n",
    "\n",
    "start_range = 1\n",
    "end_range = 9\n",
    "\n",
    "factors_dict = generate_factors_dictionary(start_range, end_range)\n",
    "\n",
    "print(\"Factors:\", factors_dict)\n"
   ]
  },
  {
   "attachments": {},
   "cell_type": "markdown",
   "metadata": {},
   "source": [
    "Assume that the below dictionary \n",
    "\n",
    "Digit_word = { 1 : “One”, 2 : “Two” , 3 : “Three” , 4 : “Four” , 5 : “Five” , 6 : “Six” , 7 : “Seven” , 8 : “Eight” , 9 : “Nine”}\n",
    "\n",
    "Read the integer from the user and display it in words by considering the above dictionary.\n",
    "\n",
    "Sample Input \n",
    "\n",
    "324\n",
    "\n",
    "Sample Output\n",
    "\n",
    "Three Two Four\n"
   ]
  },
  {
   "cell_type": "code",
   "execution_count": 4,
   "metadata": {},
   "outputs": [
    {
     "name": "stdout",
     "output_type": "stream",
     "text": [
      "Two Five Seven\n"
     ]
    }
   ],
   "source": [
    "digit_word = {\n",
    "    1: \"One\", 2: \"Two\", 3: \"Three\", 4: \"Four\", 5: \"Five\",\n",
    "    6: \"Six\", 7: \"Seven\", 8: \"Eight\", 9: \"Nine\"\n",
    "}\n",
    "\n",
    "def integer_to_words(number):\n",
    "    \n",
    "    number_str = str(number)\n",
    "   \n",
    "    words = [digit_word[int(digit)] for digit in number_str]\n",
    "  \n",
    "    result = \" \".join(words)\n",
    "\n",
    "    return result\n",
    "\n",
    "number = int(input(\"Enter an integer: \"))\n",
    "\n",
    "words = integer_to_words(number)\n",
    "\n",
    "print(words)\n"
   ]
  },
  {
   "attachments": {},
   "cell_type": "markdown",
   "metadata": {},
   "source": [
    "Given the dictionary that contains Key as “Cricketer Name”, and Value as dictionary of {Total Runs Conceded and Wickets} taken by 6 different players, \n",
    "\n",
    "\n",
    "Cricketer = {”VinayKumar”:{102,5},Yuzvendra Chahal : {89,10}, Sandeep Sharma : {95,8}, Umesh Yadav : {85,6}, “BhuvaneswarKumar”:{106,10}, Basil Thampi : {70,5}}\n",
    "\n",
    "\n",
    "calculate the average bowling score using below Formula\n",
    "\n",
    "Bowling Average = Total Runs Conceded / Total Wickets Taken\n",
    "\n",
    "Replace the key values with the calculated Bowling Average.\n",
    "\n",
    "Then sort the dictionary based on the Bowling Average.\n",
    "\n",
    "Output\n",
    "\n",
    "must be sorted based on the the value\n",
    "\n",
    "{”VinayKumar”:{20.4},Umesh Yadav : {14.6}, Basil Thampi : {14}, Sandeep Sharma : {11.85}, “BhuvaneswarKumar”:{10.6}, Yuzvendra Chahal : {8.9}}\n",
    "\n",
    "\n",
    "Sorted() function syntax to sort the value based on the key\n",
    "\n",
    "sorted_dict = sorted(dictionary.items(), key=lambda x: x[1])\n",
    "\n",
    "1st argument - dictionary.items() returns key,value pairs of the given dictionary\n",
    "\n",
    "2nd argument - key parameter -> set to lambda x:x[1] refer to the value in pair therefore the \n",
    "dictionary will be sorted based on the value.\n"
   ]
  },
  {
   "cell_type": "code",
   "execution_count": 5,
   "metadata": {},
   "outputs": [
    {
     "name": "stdout",
     "output_type": "stream",
     "text": [
      "{'Yuzvendra Chahal': [8.9], 'BhuvaneswarKumar': [10.6], 'Sandeep Sharma': [11.88], 'Basil Thampi': [14.0], 'Umesh Yadav': [14.17], 'VinayKumar': [20.4]}\n"
     ]
    }
   ],
   "source": [
    "cricketer = {\n",
    "    \"VinayKumar\": [102, 5],\n",
    "    \"Yuzvendra Chahal\": [89, 10],\n",
    "    \"Sandeep Sharma\": [95, 8],\n",
    "    \"Umesh Yadav\": [85, 6],\n",
    "    \"BhuvaneswarKumar\": [106, 10],\n",
    "    \"Basil Thampi\": [70, 5]\n",
    "}\n",
    "\n",
    "for player, stats in cricketer.items():\n",
    "    runs_conceded, wickets_taken = stats\n",
    "    bowling_average = runs_conceded / wickets_taken\n",
    "    cricketer[player] = [round(bowling_average, 2)]\n",
    "\n",
    "sorted_cricketer = dict(sorted(cricketer.items(), key=lambda x: x[1]))\n",
    "\n",
    "print(sorted_cricketer)\n"
   ]
  },
  {
   "cell_type": "code",
   "execution_count": null,
   "metadata": {},
   "outputs": [],
   "source": []
  }
 ],
 "metadata": {
  "kernelspec": {
   "display_name": "Python 3",
   "language": "python",
   "name": "python3"
  },
  "language_info": {
   "codemirror_mode": {
    "name": "ipython",
    "version": 3
   },
   "file_extension": ".py",
   "mimetype": "text/x-python",
   "name": "python",
   "nbconvert_exporter": "python",
   "pygments_lexer": "ipython3",
   "version": "3.10.8"
  },
  "orig_nbformat": 4
 },
 "nbformat": 4,
 "nbformat_minor": 2
}
