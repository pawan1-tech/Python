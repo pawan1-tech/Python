{
 "cells": [
  {
   "attachments": {},
   "cell_type": "markdown",
   "metadata": {},
   "source": [
    "Write a program that generate a set of number that are prime numbers (1-50) and another set of numbers divisible by 5 (1-50),then apply union, intersection, difference and symmetric difference on the resultant sets"
   ]
  },
  {
   "cell_type": "code",
   "execution_count": 6,
   "metadata": {},
   "outputs": [
    {
     "name": "stdout",
     "output_type": "stream",
     "text": [
      "Prime Numbers: {1, 2, 3, 5, 37, 7, 41, 11, 43, 13, 47, 17, 19, 23, 29, 31}\n",
      "Numbers Divisible by 5: {35, 5, 40, 10, 45, 15, 50, 20, 25, 30}\n",
      "Union: {1, 2, 3, 5, 7, 10, 11, 13, 15, 17, 19, 20, 23, 25, 29, 30, 31, 35, 37, 40, 41, 43, 45, 47, 50}\n",
      "Intersection: {5}\n",
      "Difference: {1, 2, 3, 37, 7, 41, 11, 43, 13, 47, 17, 19, 23, 29, 31}\n",
      "Symmetric Difference: {1, 2, 3, 7, 10, 11, 13, 15, 17, 19, 20, 23, 25, 29, 30, 31, 35, 37, 40, 41, 43, 45, 47, 50}\n"
     ]
    }
   ],
   "source": [
    "def is_prime(n):\n",
    "    for i in range(2,n):\n",
    "        if(n%i == 0):\n",
    "            return False\n",
    "\n",
    "\n",
    "prime_numbers = {num for num in range(1, 51) if (is_prime(num) != False)}\n",
    "\n",
    "\n",
    "divisible_by_5 = {num for num in range(1, 51) if num % 5 == 0}\n",
    "\n",
    "\n",
    "union = prime_numbers.union(divisible_by_5)\n",
    "intersection = prime_numbers.intersection(divisible_by_5)\n",
    "difference = prime_numbers.difference(divisible_by_5)\n",
    "symmetric_difference = prime_numbers.symmetric_difference(divisible_by_5)\n",
    "\n",
    "\n",
    "print(\"Prime Numbers:\", prime_numbers)\n",
    "print(\"Numbers Divisible by 5:\", divisible_by_5)\n",
    "print(\"Union:\", union)\n",
    "print(\"Intersection:\", intersection)\n",
    "print(\"Difference:\", difference)\n",
    "print(\"Symmetric Difference:\", symmetric_difference)\n"
   ]
  },
  {
   "attachments": {},
   "cell_type": "markdown",
   "metadata": {},
   "source": [
    "Write a program that generates a set of squares of numbers in the range(1-30) and another list generates numbers that are divisible by 3 in the range(1-30). Generate a newset from a square set, which should not contain the numbers that are divisible by 3."
   ]
  },
  {
   "cell_type": "code",
   "execution_count": 2,
   "metadata": {},
   "outputs": [
    {
     "name": "stdout",
     "output_type": "stream",
     "text": [
      "Squares Set: {256, 1, 4, 900, 9, 16, 144, 400, 529, 784, 25, 289, 36, 676, 169, 49, 441, 64, 576, 196, 324, 841, 81, 729, 225, 100, 484, 361, 625, 121}\n",
      "Divisible by 3 List: [3, 6, 9, 12, 15, 18, 21, 24, 27, 30]\n",
      "New Set: {256, 1, 4, 900, 16, 144, 400, 529, 784, 25, 289, 36, 676, 169, 49, 441, 64, 576, 196, 324, 841, 81, 729, 225, 100, 484, 361, 625, 121}\n"
     ]
    }
   ],
   "source": [
    "\n",
    "squares = {num**2 for num in range(1, 31)}\n",
    "\n",
    "\n",
    "divisible_by_3 = [num for num in range(1, 31) if num % 3 == 0]\n",
    "\n",
    "\n",
    "new_set = {num for num in squares if num not in divisible_by_3}\n",
    "\n",
    "\n",
    "print(\"Squares Set:\", squares)\n",
    "print(\"Divisible by 3 List:\", divisible_by_3)\n",
    "print(\"New Set:\", new_set)"
   ]
  },
  {
   "attachments": {},
   "cell_type": "markdown",
   "metadata": {},
   "source": [
    "Write a Python Program to Count the Number of Vowels in a Given String Using Sets. Don’t use any built in string functions. \n",
    "Hint: Create a set that contains VOWELS\n"
   ]
  },
  {
   "cell_type": "code",
   "execution_count": 3,
   "metadata": {},
   "outputs": [
    {
     "name": "stdout",
     "output_type": "stream",
     "text": [
      "Number of vowels: 7\n"
     ]
    }
   ],
   "source": [
    "def count_vowels(string):\n",
    "    vowels = {'a', 'e', 'i', 'o', 'u'}\n",
    "    count = 0\n",
    "    for char in string:\n",
    "        if char.lower() in vowels:\n",
    "            count += 1\n",
    "    return count\n",
    "\n",
    "\n",
    "\n",
    "input_string = \"Hello, how are you?\"\n",
    "vowel_count = count_vowels(input_string)\n",
    "\n",
    "print(\"Number of vowels:\", vowel_count)"
   ]
  },
  {
   "attachments": {},
   "cell_type": "markdown",
   "metadata": {},
   "source": [
    "Consider the given list and find the common elements of the three given lists USING SET.\n",
    "\n",
    "List1 = [10, 45, 34, 20, 11]\n",
    "\n",
    "List2 = [11, 25, 45, 20]\n",
    "\n",
    "List3 = [20, 25, 11, 14, 45, 65]\n"
   ]
  },
  {
   "cell_type": "code",
   "execution_count": 4,
   "metadata": {},
   "outputs": [
    {
     "name": "stdout",
     "output_type": "stream",
     "text": [
      "Common Elements: {11, 20, 45}\n"
     ]
    }
   ],
   "source": [
    "def find_common_elements(list1, list2, list3):\n",
    "    set1 = set(list1)\n",
    "    set2 = set(list2)\n",
    "    set3 = set(list3)\n",
    "    common_elements = set1.intersection(set2, set3)\n",
    "    return common_elements\n",
    "\n",
    "\n",
    "\n",
    "list1 = [10, 45, 34, 20, 11]\n",
    "list2 = [11, 25, 45, 20]\n",
    "list3 = [20, 25, 11, 14, 45, 65]\n",
    "\n",
    "common_elements = find_common_elements(list1, list2, list3)\n",
    "\n",
    "print(\"Common Elements:\", common_elements)\n"
   ]
  },
  {
   "cell_type": "code",
   "execution_count": null,
   "metadata": {},
   "outputs": [],
   "source": []
  }
 ],
 "metadata": {
  "kernelspec": {
   "display_name": "Python 3",
   "language": "python",
   "name": "python3"
  },
  "language_info": {
   "codemirror_mode": {
    "name": "ipython",
    "version": 3
   },
   "file_extension": ".py",
   "mimetype": "text/x-python",
   "name": "python",
   "nbconvert_exporter": "python",
   "pygments_lexer": "ipython3",
   "version": "3.10.8"
  },
  "orig_nbformat": 4
 },
 "nbformat": 4,
 "nbformat_minor": 2
}
