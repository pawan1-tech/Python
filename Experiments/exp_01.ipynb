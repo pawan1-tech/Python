{
 "cells": [
  {
   "cell_type": "code",
   "execution_count": 1,
   "metadata": {},
   "outputs": [
    {
     "ename": "ValueError",
     "evalue": "invalid literal for int() with base 10: ''",
     "output_type": "error",
     "traceback": [
      "\u001b[0;31m---------------------------------------------------------------------------\u001b[0m",
      "\u001b[0;31mValueError\u001b[0m                                Traceback (most recent call last)",
      "Cell \u001b[0;32mIn[1], line 1\u001b[0m\n\u001b[0;32m----> 1\u001b[0m num \u001b[39m=\u001b[39m \u001b[39mint\u001b[39;49m (\u001b[39minput\u001b[39;49m (\u001b[39m'\u001b[39;49m\u001b[39mEnter Number : \u001b[39;49m\u001b[39m'\u001b[39;49m))\n\u001b[1;32m      2\u001b[0m \u001b[39mif\u001b[39;00m(num\u001b[39m%\u001b[39m\u001b[39m2\u001b[39m \u001b[39m!=\u001b[39m \u001b[39m0\u001b[39m):\n\u001b[1;32m      3\u001b[0m     \u001b[39mprint\u001b[39m(\u001b[39m'\u001b[39m\u001b[39mNumber is Odd \u001b[39m\u001b[39m'\u001b[39m)\n",
      "\u001b[0;31mValueError\u001b[0m: invalid literal for int() with base 10: ''"
     ]
    }
   ],
   "source": [
    "num =int(input ('Enter Number : '))\n",
    "if(num%2 != 0):\n",
    "    print('Number is Odd ')\n",
    "    fact = 1\n",
    "    while(num%2 == 0):\n",
    "        fact = fact * num\n",
    "        num = num-1\n",
    "    print('the factorial of the number is :',fact)\n",
    "    digits = 0\n",
    "    while(fact>0):\n",
    "        fact = fact/10\n",
    "        digits = digits+1\n",
    "    print('the number of digits in the factorial of the number is : ',digits)\n",
    "else:\n",
    "    num = str(num)\n",
    "    rev = num[::-1]\n",
    "    if num == rev:\n",
    "        print('the given number is a palindrome')\n",
    "    else:\n",
    "        print('the given number is a not palindrome')"
   ]
  },
  {
   "cell_type": "code",
   "execution_count": null,
   "metadata": {},
   "outputs": [],
   "source": []
  }
 ],
 "metadata": {
  "kernelspec": {
   "display_name": "Python 3",
   "language": "python",
   "name": "python3"
  },
  "language_info": {
   "codemirror_mode": {
    "name": "ipython",
    "version": 3
   },
   "file_extension": ".py",
   "mimetype": "text/x-python",
   "name": "python",
   "nbconvert_exporter": "python",
   "pygments_lexer": "ipython3",
   "version": "3.10.4"
  },
  "orig_nbformat": 4
 },
 "nbformat": 4,
 "nbformat_minor": 2
}
