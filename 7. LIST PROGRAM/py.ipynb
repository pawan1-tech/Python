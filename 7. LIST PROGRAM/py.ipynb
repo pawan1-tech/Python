{
 "cells": [
  {
   "attachments": {},
   "cell_type": "markdown",
   "metadata": {},
   "source": [
    "Write a python program which reads “n” number of integers from the user and generates a separate list containing even and odd numbers."
   ]
  },
  {
   "cell_type": "code",
   "execution_count": 4,
   "metadata": {},
   "outputs": [
    {
     "name": "stdout",
     "output_type": "stream",
     "text": [
      "Even numbers are : [0, 2, 4, 6, 8, 10, 12, 14, 16, 18, 20, 22, 24, 26, 28, 30]\n",
      "odd numbers are : [1, 3, 5, 7, 9, 11, 13, 15, 17, 19, 21, 23, 25, 27, 29]\n"
     ]
    }
   ],
   "source": [
    "n = int (input ('enter number of integer: '))\n",
    "even = []\n",
    "odd = []\n",
    "for i in range (n+1):\n",
    "    if(i%2 == 0):\n",
    "        even.append(i)\n",
    "    else:\n",
    "        odd.append(i)\n",
    "print(\"Even numbers are :\",even)\n",
    "print(\"odd numbers are :\",odd)\n",
    "\n"
   ]
  },
  {
   "attachments": {},
   "cell_type": "markdown",
   "metadata": {},
   "source": [
    "The python program should read the list of 5 numbers, and generate the new list which contains the factorial of each number in the given list. \n",
    "\n",
    "Sample Input\n",
    "\n",
    "[2, 4, 8, 7, 5]\n",
    "\n",
    "Sample Output\n",
    "\n",
    "[2, 24, 40320, 5040, 120]\n"
   ]
  },
  {
   "cell_type": "code",
   "execution_count": 2,
   "metadata": {},
   "outputs": [
    {
     "name": "stdout",
     "output_type": "stream",
     "text": [
      "[2, 4, 8, 7, 5]\n",
      "[2, 24, 40320, 5040, 120]\n"
     ]
    }
   ],
   "source": [
    "def factor(n):\n",
    "    if(n==0 or n==1):\n",
    "        return 1\n",
    "    else:\n",
    "        return n*factor(n-1)\n",
    "num=[]\n",
    "for i in range (5):\n",
    "    num.append(int(input('List num: ')))\n",
    "print(num)\n",
    "# num=[2, 4, 8, 7, 5]\n",
    "result =[]\n",
    "for i in num:\n",
    "    k =(factor(i))\n",
    "    result.append(k)\n",
    "print(result)\n"
   ]
  },
  {
   "attachments": {},
   "cell_type": "markdown",
   "metadata": {},
   "source": [
    "Write a python program that reads integers from the user and stores them in a list. Your program should continue reading values until the user enters 0. Then it should display all of the values entered by the user (except for the 0) in ascending order (The list itself to be sorted)."
   ]
  },
  {
   "cell_type": "code",
   "execution_count": 9,
   "metadata": {},
   "outputs": [
    {
     "name": "stdout",
     "output_type": "stream",
     "text": [
      "[]\n"
     ]
    }
   ],
   "source": [
    "num=[]\n",
    "while(k>0):\n",
    "    k = int(input('Enter List integer: '))\n",
    "    if(k == 0):\n",
    "        break\n",
    "    num.append(k)\n",
    "sorted(num)\n",
    "print(num)"
   ]
  },
  {
   "cell_type": "code",
   "execution_count": null,
   "metadata": {},
   "outputs": [],
   "source": []
  }
 ],
 "metadata": {
  "kernelspec": {
   "display_name": "Python 3",
   "language": "python",
   "name": "python3"
  },
  "language_info": {
   "codemirror_mode": {
    "name": "ipython",
    "version": 3
   },
   "file_extension": ".py",
   "mimetype": "text/x-python",
   "name": "python",
   "nbconvert_exporter": "python",
   "pygments_lexer": "ipython3",
   "version": "3.10.4"
  },
  "orig_nbformat": 4
 },
 "nbformat": 4,
 "nbformat_minor": 2
}
