{
 "cells": [
  {
   "cell_type": "code",
   "execution_count": 3,
   "metadata": {},
   "outputs": [
    {
     "name": "stdout",
     "output_type": "stream",
     "text": [
      "Number is Odd \n",
      "the factorial of the number is : 120\n",
      "the number of digits in the factorial of the number is :  3\n"
     ]
    }
   ],
   "source": [
    "num = int (input ('Enter Number : '))\n",
    "if(num%2 != 0):\n",
    "    print('Number is Odd ')\n",
    "    fact = 1\n",
    "    while(num > 0):\n",
    "        fact = fact * num\n",
    "        num = num-1\n",
    "    print('the factorial of the number is :',fact)\n",
    "    digits = 0\n",
    "    while(fact>0):\n",
    "        fact = int(fact/10)\n",
    "        digits = digits+1\n",
    "    print('the number of digits in the factorial of the number is : ',digits)\n",
    "else:\n",
    "    rev=0\n",
    "    n =num\n",
    "    while(n > 0):\n",
    "        rem = n % 10\n",
    "        rev = rev * 10 + rem\n",
    "        n = int (n / 10)\n",
    "    print(rev)\n",
    "    if (num == rev):\n",
    "        print('the given number is a palindrome')\n",
    "    else:\n",
    "        print('the given number is a not palindrome')"
   ]
  },
  {
   "cell_type": "code",
   "execution_count": null,
   "metadata": {},
   "outputs": [],
   "source": []
  }
 ],
 "metadata": {
  "kernelspec": {
   "display_name": "Python 3",
   "language": "python",
   "name": "python3"
  },
  "language_info": {
   "codemirror_mode": {
    "name": "ipython",
    "version": 3
   },
   "file_extension": ".py",
   "mimetype": "text/x-python",
   "name": "python",
   "nbconvert_exporter": "python",
   "pygments_lexer": "ipython3",
   "version": "3.10.4"
  },
  "orig_nbformat": 4
 },
 "nbformat": 4,
 "nbformat_minor": 2
}
