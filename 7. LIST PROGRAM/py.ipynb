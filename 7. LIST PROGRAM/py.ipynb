{
 "cells": [
  {
   "attachments": {},
   "cell_type": "markdown",
   "metadata": {},
   "source": [
    "Write a python program which reads “n” number of integers from the user and generates a separate list containing even and odd numbers."
   ]
  },
  {
   "cell_type": "code",
   "execution_count": 2,
   "metadata": {},
   "outputs": [
    {
     "name": "stdout",
     "output_type": "stream",
     "text": [
      "Enter the numbers to be added in list\n",
      "[1, 2, 3, 4, 5, 6, 7, 8]\n",
      "[2, 4, 6, 8]\n",
      "[1, 3, 5, 7]\n"
     ]
    }
   ],
   "source": [
    "n=int (input(\"Enter the number to be entered\"))\n",
    "number=[]\n",
    "print(\"Enter the numbers to be added in list\")\n",
    "for i in range(n):\n",
    "    num=int(input())\n",
    "    number.append(num)\n",
    "print(number)    \n",
    "even=[]\n",
    "odd=[]\n",
    "for num in number:\n",
    "    if num%2==0:\n",
    "        even.append(num)\n",
    "    else:\n",
    "        odd.append(num)\n",
    "print(even)\n",
    "print(odd)  \n",
    "\n"
   ]
  },
  {
   "attachments": {},
   "cell_type": "markdown",
   "metadata": {},
   "source": [
    "The python program should read the list of 5 numbers, and generate the new list which contains the factorial of each number in the given list. \n",
    "\n",
    "Sample Input\n",
    "\n",
    "[2, 4, 8, 7, 5]\n",
    "\n",
    "Sample Output\n",
    "\n",
    "[2, 24, 40320, 5040, 120]\n"
   ]
  },
  {
   "cell_type": "code",
   "execution_count": 6,
   "metadata": {},
   "outputs": [
    {
     "name": "stdout",
     "output_type": "stream",
     "text": [
      "[5, 1, 2, 3, 4]\n",
      "[120, 1, 2, 6, 24]\n"
     ]
    }
   ],
   "source": [
    "def factor(n):\n",
    "    if(n==0 or n==1):\n",
    "        return 1\n",
    "    else:\n",
    "        return n*factor(n-1)\n",
    "num=[]\n",
    "for i in range (5):\n",
    "    num.append(int(input('List num: ')))\n",
    "print(num)\n",
    "# num=[2, 4, 8, 7, 5]\n",
    "result =[]\n",
    "for i in num:\n",
    "    k =(factor(i))\n",
    "    result.append(k)\n",
    "print(result)\n"
   ]
  },
  {
   "attachments": {},
   "cell_type": "markdown",
   "metadata": {},
   "source": [
    "Write a python program that reads integers from the user and stores them in a list. Your program should continue reading values until the user enters 0. Then it should display all of the values entered by the user (except for the 0) in ascending order (The list itself to be sorted)."
   ]
  },
  {
   "cell_type": "code",
   "execution_count": 7,
   "metadata": {},
   "outputs": [
    {
     "name": "stdout",
     "output_type": "stream",
     "text": [
      "Enter the numbers\n",
      "7\n",
      "8\n",
      "4\n",
      "9\n",
      "5\n",
      "2\n",
      "3\n",
      "0\n",
      "[7, 8, 4, 9, 5, 2, 3]\n",
      "The sorted list is: [2, 3, 4, 5, 7, 8, 9]\n"
     ]
    }
   ],
   "source": [
    "print(\"Enter the numbers\")\n",
    "list=[]\n",
    "while(True):\n",
    "    num=int(input())\n",
    "    print(num)\n",
    "    if num==0:\n",
    "        break\n",
    "    list.append(num) \n",
    "print(list)  \n",
    "list.sort()\n",
    "print(\"The sorted list is:\",list) "
   ]
  },
  {
   "attachments": {},
   "cell_type": "markdown",
   "metadata": {},
   "source": [
    "Write a python program that reads the string, encode each character in a string using ascii values and store the ascii value in the list. The program reads the strings from the user, and stores the individual characters ascii value to the list\n",
    "Sample Input\n",
    "Enter the string : Science\n",
    "Sample Output\n",
    "Encode the List - [83, 99, 105, 101, 110, 99, 101]\n",
    "Note: Use ord() function\n"
   ]
  },
  {
   "cell_type": "code",
   "execution_count": 9,
   "metadata": {},
   "outputs": [
    {
     "name": "stdout",
     "output_type": "stream",
     "text": [
      "['S', 'c', 'i', 'e', 'n', 'c', 'e']\n",
      "[83, 99, 105, 101, 110, 99, 101]\n"
     ]
    }
   ],
   "source": [
    "string=str(input(\"Enter the string:\"))\n",
    "list=[]\n",
    "l=[]\n",
    "for i in string:\n",
    "     ascii=ord(i)\n",
    "     list.append(ascii)\n",
    "     l.append(i)\n",
    "print(l)     \n",
    "print(list)"
   ]
  },
  {
   "attachments": {},
   "cell_type": "markdown",
   "metadata": {},
   "source": [
    "Write a python program which reads “n” words from the user, store it in the list and display the length of each word and display the longest word in the list."
   ]
  },
  {
   "cell_type": "code",
   "execution_count": 11,
   "metadata": {},
   "outputs": [
    {
     "name": "stdout",
     "output_type": "stream",
     "text": [
      "['pawan', 'karan', 'bijay', 'sanjay', 'rohit']\n",
      "Length of each word is:\n",
      "pawan : 5\n",
      "karan : 5\n",
      "bijay : 5\n",
      "sanjay : 6\n",
      "rohit : 5\n",
      "The longest word is: sanjay\n"
     ]
    }
   ],
   "source": [
    "num=int(input(\"Enter the number of words to be entered:\"))\n",
    "list=[]\n",
    "for i in range(0,num):\n",
    "    string=str(input())\n",
    "    list.append(string)\n",
    "print(list)\n",
    "print(\"Length of each word is:\")\n",
    "for string in (list):\n",
    "     length=len(string)\n",
    "     print(string,\":\",length)\n",
    "long=list[i]\n",
    "for string in (list):\n",
    "     if len(string)>len(long):\n",
    "        long=string\n",
    "print(\"The longest word is:\",long)  "
   ]
  },
  {
   "attachments": {},
   "cell_type": "markdown",
   "metadata": {},
   "source": [
    "A program should read “n” positive integers from the user and append it to the list, and if the list contains prime numbers return “True” and number of prime numbers, else “False”."
   ]
  },
  {
   "cell_type": "code",
   "execution_count": 13,
   "metadata": {},
   "outputs": [
    {
     "name": "stdout",
     "output_type": "stream",
     "text": [
      "5\n",
      "[4, 3, 2, 1, 6]\n",
      "Number of prime numbers: 3\n"
     ]
    }
   ],
   "source": [
    "def is_prime(n):\n",
    "    \n",
    "    for i in range(2,n):\n",
    "        if n % i == 0:\n",
    "            return False\n",
    "        \n",
    "\n",
    "n = int(input(\"Enter the number of integers: \"))\n",
    "numbers = []\n",
    "print(n)\n",
    "for i in range(n):\n",
    "    num = int(input(\"Enter a positive integer: \"))\n",
    "    numbers.append(num)\n",
    "print(numbers)\n",
    "prime_numbers = [num for num in numbers if (is_prime(num) != False)]\n",
    "num_primes = len(prime_numbers)\n",
    "print(\"Number of prime numbers:\", num_primes)"
   ]
  },
  {
   "attachments": {},
   "cell_type": "markdown",
   "metadata": {},
   "source": [
    "Write a python program that removes duplicates from the given list and generate the new list without duplicates."
   ]
  },
  {
   "cell_type": "code",
   "execution_count": 14,
   "metadata": {},
   "outputs": [
    {
     "name": "stdout",
     "output_type": "stream",
     "text": [
      "Enter the numbers\n",
      "[1, 2, 1, 2, 5]\n",
      "[1, 2, 5]\n"
     ]
    }
   ],
   "source": [
    "n=int(input(\"Enter the number of integers to be taken\"))\n",
    "list=[]\n",
    "list1=[]\n",
    "print(\"Enter the numbers\")\n",
    "for i in range(n):\n",
    "    num=int(input())\n",
    "    list.append(num)\n",
    "print(list)   \n",
    "for j in list:\n",
    "    if j not in (list1):\n",
    "        list1.append(j)\n",
    "print(list1) "
   ]
  },
  {
   "attachments": {},
   "cell_type": "markdown",
   "metadata": {},
   "source": [
    "Write a python program to remove even numbers from the given list.\n",
    "\n",
    "Sample Input: [5,6,2,8,9,12,66] Sample Output [5,9]"
   ]
  },
  {
   "cell_type": "code",
   "execution_count": 15,
   "metadata": {},
   "outputs": [
    {
     "name": "stdout",
     "output_type": "stream",
     "text": [
      "[5, 6, 2, 8, 9, 12, 66]\n",
      "[5, 9]\n"
     ]
    }
   ],
   "source": [
    "num=[5,6,2,8,9,12,66]\n",
    "print(num)\n",
    "list=[]\n",
    "for i in num:\n",
    "    if i%2==0:\n",
    "        continue\n",
    "    list.append(i)\n",
    "print(list)"
   ]
  },
  {
   "attachments": {},
   "cell_type": "markdown",
   "metadata": {},
   "source": [
    "Consider the following list which contains the month with year years = [\"January 2023\", “February 2024”, March 2023”, \"May 2025\", \"April 2023\", \"August 2024\", \"September 2025\", \"December 2023\"]If you have noticed, for some months, the year was wrongly mentioned instead of 2023. Write a Python program to change the month to 2023."
   ]
  },
  {
   "cell_type": "code",
   "execution_count": 16,
   "metadata": {},
   "outputs": [
    {
     "name": "stdout",
     "output_type": "stream",
     "text": [
      "['January 2023', 'February 2023', 'March 2023', 'May 2023', 'April 2023', 'August 2023', 'September 2023', 'December 2023']\n"
     ]
    }
   ],
   "source": [
    "years = [\"January 2023\", \"February 2024\", \"March 2023\", \"May 2025\", \"April 2023\", \"August 2024\", \"September 2025\", \"December 2023\"]\n",
    "for i in range(len(years)):\n",
    "    if \"2023\" not in years[i]:\n",
    "        month = years[i].split()[0]\n",
    "        years[i] = month + \" 2023\"\n",
    "\n",
    "print(years)"
   ]
  },
  {
   "cell_type": "code",
   "execution_count": null,
   "metadata": {},
   "outputs": [],
   "source": []
  }
 ],
 "metadata": {
  "kernelspec": {
   "display_name": "Python 3",
   "language": "python",
   "name": "python3"
  },
  "language_info": {
   "codemirror_mode": {
    "name": "ipython",
    "version": 3
   },
   "file_extension": ".py",
   "mimetype": "text/x-python",
   "name": "python",
   "nbconvert_exporter": "python",
   "pygments_lexer": "ipython3",
   "version": "3.10.8"
  },
  "orig_nbformat": 4
 },
 "nbformat": 4,
 "nbformat_minor": 2
}
