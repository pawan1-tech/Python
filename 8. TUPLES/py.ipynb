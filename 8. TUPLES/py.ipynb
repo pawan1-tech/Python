{
 "cells": [
  {
   "attachments": {},
   "cell_type": "markdown",
   "metadata": {},
   "source": [
    "Write a python program that scans an email address and forms a tuple of user name and domain\n",
    "\n",
    "Sample Input:\n",
    "\n",
    "22cs453@kpriet.ac.in\n",
    "\n",
    "Sample output:\n",
    "\n",
    "User name: 22cs452\n",
    "\n",
    "Domain name: kpriet.ac.in\n"
   ]
  },
  {
   "cell_type": "code",
   "execution_count": 1,
   "metadata": {},
   "outputs": [
    {
     "name": "stdout",
     "output_type": "stream",
     "text": [
      "User name: 22cs453\n",
      "Domain name: kpriet.ac.in\n"
     ]
    }
   ],
   "source": [
    "def parse_email(email):\n",
    "    username, domain = email.split('@')\n",
    "    return (username, domain)\n",
    "\n",
    "email_address = \"22cs453@kpriet.ac.in\"\n",
    "username, domain = parse_email(email_address)\n",
    "\n",
    "print(\"User name:\", username)\n",
    "print(\"Domain name:\", domain)"
   ]
  },
  {
   "attachments": {},
   "cell_type": "markdown",
   "metadata": {},
   "source": [
    "Write a python program that has a list of positive and negative numbers.Make a new tuple that has only positive values from the list.\n",
    "\n",
    "Sample Input: (-20,-4,-7,6,4,8,3,-6)\n",
    "\n",
    "Sample Output: (6,4,8,3)\n"
   ]
  },
  {
   "cell_type": "code",
   "execution_count": 2,
   "metadata": {},
   "outputs": [
    {
     "name": "stdout",
     "output_type": "stream",
     "text": [
      "(6, 4, 8, 3)\n"
     ]
    }
   ],
   "source": [
    "def get_positive_numbers(numbers):\n",
    "    positive_numbers = tuple(num for num in numbers if num > 0)\n",
    "    return positive_numbers\n",
    "\n",
    "\n",
    "numbers = (-20, -4, -7, 6, 4, 8, 3, -6)\n",
    "positive_numbers = get_positive_numbers(numbers)\n",
    "\n",
    "print(positive_numbers)"
   ]
  },
  {
   "cell_type": "code",
   "execution_count": null,
   "metadata": {},
   "outputs": [],
   "source": []
  }
 ],
 "metadata": {
  "kernelspec": {
   "display_name": "Python 3",
   "language": "python",
   "name": "python3"
  },
  "language_info": {
   "codemirror_mode": {
    "name": "ipython",
    "version": 3
   },
   "file_extension": ".py",
   "mimetype": "text/x-python",
   "name": "python",
   "nbconvert_exporter": "python",
   "pygments_lexer": "ipython3",
   "version": "3.10.8"
  },
  "orig_nbformat": 4
 },
 "nbformat": 4,
 "nbformat_minor": 2
}
