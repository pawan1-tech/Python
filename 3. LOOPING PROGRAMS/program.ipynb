{
 "cells": [
  {
   "attachments": {},
   "cell_type": "markdown",
   "metadata": {},
   "source": [
    "<!-- Write a program to display the count of even and odd numbers in a given range.\n",
    "Sample Input\n",
    "Start: 20\n",
    "End : 50\n",
    "(inclusive of 20 and 50)\n",
    "Sample Output:\n",
    "Even : 16\n",
    "Odd : 15 --!>"
   ]
  },
  {
   "cell_type": "code",
   "execution_count": 8,
   "metadata": {},
   "outputs": [
    {
     "name": "stdout",
     "output_type": "stream",
     "text": [
      "Even : 16\n",
      "Odd : 15\n"
     ]
    }
   ],
   "source": [
    "s = int(input('Start:'))\n",
    "e = int(input ('End :'))\n",
    "a=0\n",
    "b=0\n",
    "for i in range(s,e+1):\n",
    "    if(i%2 == 0):\n",
    "        a=a+1\n",
    "    else:\n",
    "        b=b+1\n",
    "print('Even :',a)\n",
    "print('Odd :',b)"
   ]
  },
  {
   "attachments": {},
   "cell_type": "markdown",
   "metadata": {},
   "source": [
    "<!-- Write a program to display the factors of a given number.\n",
    "Sample Input\n",
    "56\n",
    "Sample output\n",
    "1, 2, 4, 7, 8, 14, 28, 56 -->\n"
   ]
  },
  {
   "cell_type": "code",
   "execution_count": null,
   "metadata": {},
   "outputs": [],
   "source": []
  },
  {
   "attachments": {},
   "cell_type": "markdown",
   "metadata": {},
   "source": [
    "<!-- Write a program to display the prime in the given range. \n",
    "Sample Input\n",
    "1\n",
    "10\n",
    "Sample Output\n",
    "2 , 3 , 5 , 7\n",
    " -->"
   ]
  },
  {
   "cell_type": "code",
   "execution_count": 10,
   "metadata": {},
   "outputs": [
    {
     "name": "stdout",
     "output_type": "stream",
     "text": [
      "Prime number in range is:  [1, 2, 3, 5, 7, 9, 11, 13, 15, 17, 19]\n"
     ]
    }
   ],
   "source": [
    "def prim(n):\n",
    "    for i in range(2,n):\n",
    "        if(n%2 == 0):\n",
    "            return False\n",
    "s = int(input('Start:'))\n",
    "e = int(input ('End :')) \n",
    "prime=[]\n",
    "for m in range(s,e+1):\n",
    "    if(prim(m) != False): \n",
    "        prime.append(m)  \n",
    "print('Prime number in range is: ',prime)   \n"
   ]
  },
  {
   "cell_type": "code",
   "execution_count": null,
   "metadata": {},
   "outputs": [],
   "source": []
  }
 ],
 "metadata": {
  "kernelspec": {
   "display_name": "Python 3",
   "language": "python",
   "name": "python3"
  },
  "language_info": {
   "codemirror_mode": {
    "name": "ipython",
    "version": 3
   },
   "file_extension": ".py",
   "mimetype": "text/x-python",
   "name": "python",
   "nbconvert_exporter": "python",
   "pygments_lexer": "ipython3",
   "version": "3.10.4"
  },
  "orig_nbformat": 4
 },
 "nbformat": 4,
 "nbformat_minor": 2
}
